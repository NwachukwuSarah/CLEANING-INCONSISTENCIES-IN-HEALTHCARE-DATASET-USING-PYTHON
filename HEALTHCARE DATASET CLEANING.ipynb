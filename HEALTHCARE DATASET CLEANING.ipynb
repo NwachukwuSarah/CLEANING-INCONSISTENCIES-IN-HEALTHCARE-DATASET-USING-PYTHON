{
 "cells": [
  {
   "cell_type": "markdown",
   "id": "e482e6e9",
   "metadata": {},
   "source": [
    "# DATA STANDARDS FOR THIS DATASET"
   ]
  },
  {
   "cell_type": "markdown",
   "id": "bda2ddee",
   "metadata": {},
   "source": [
    "DATA STANDARDS\n",
    "1. NAME: All the Names in the name column should be in proper case\n",
    "2. AGE: Age should be in int data type\n",
    "3. GENDER: Gender should be in proper case\n",
    "4. BLOOD TYPE: Leave the Blood type Column as it is\n",
    "5. MEDICAL CONDITION: Leave the Medical Conditions should be in proper case.\n",
    "6. DATE OF ADMISSION: Date of Admission should be in datetime format\n",
    "7. DOCTOR: The doctor’s name should be in proper case and there should be Dr. in front of all the doctors' names.\n",
    "8. HOSPITAL: Each hospital Name should be in proper case and multiple hospitals are allowed for each patient.\n",
    "9. INSURANCE PROVIDER: Each insurance provider name should be in proper case\n",
    "10. ROOM NUMBER: The room number column should be in int data type\n",
    "11. ADMISSION TYPE: Admission Type should be in proper case\n",
    "12. DATE OF DISCHARGE: Date of discharge should be in datetime format\n",
    "13. MEDICATION: The names of each medication should be in proper case\n",
    "14. TEST RESULTS: The values of the test results column should be in proper case.\n"
   ]
  },
  {
   "cell_type": "markdown",
   "id": "884ba5a4",
   "metadata": {},
   "source": [
    "# IMPORTING LIBRARIES AND LOADING THE DATASET"
   ]
  },
  {
   "cell_type": "code",
   "execution_count": 1,
   "id": "fa9a34f5",
   "metadata": {},
   "outputs": [],
   "source": [
    "import pandas as pd\n",
    "import numpy as np\n",
    "import charset_normalizer\n",
    "import datetime\n",
    "import matplotlib.pyplot as plt\n",
    "import seaborn as sns\n",
    "import fuzzywuzzy\n",
    "from fuzzywuzzy import process"
   ]
  },
  {
   "cell_type": "markdown",
   "id": "634c6145",
   "metadata": {},
   "source": [
    "# ENSURING THAT THERE IS NO ENCODING ISSUES AND LOADING THE DATA"
   ]
  },
  {
   "cell_type": "markdown",
   "id": "fe5e0fab",
   "metadata": {},
   "source": [
    "healthData = pd.read_csv('healthcare_dataset.csv')"
   ]
  },
  {
   "cell_type": "markdown",
   "id": "855c34c0",
   "metadata": {},
   "source": [
    "sampleData = healthData.sample(n = 3000)"
   ]
  },
  {
   "cell_type": "markdown",
   "id": "025c1e34",
   "metadata": {},
   "source": [
    "sampleData.to_csv('healthcare_dataset(utf-8).csv', encoding = 'utf-8', index = False)"
   ]
  },
  {
   "cell_type": "code",
   "execution_count": 6,
   "id": "2b086101",
   "metadata": {},
   "outputs": [
    {
     "data": {
      "text/html": [
       "<div>\n",
       "<style scoped>\n",
       "    .dataframe tbody tr th:only-of-type {\n",
       "        vertical-align: middle;\n",
       "    }\n",
       "\n",
       "    .dataframe tbody tr th {\n",
       "        vertical-align: top;\n",
       "    }\n",
       "\n",
       "    .dataframe thead th {\n",
       "        text-align: right;\n",
       "    }\n",
       "</style>\n",
       "<table border=\"1\" class=\"dataframe\">\n",
       "  <thead>\n",
       "    <tr style=\"text-align: right;\">\n",
       "      <th></th>\n",
       "      <th>Name</th>\n",
       "      <th>Age</th>\n",
       "      <th>Gender</th>\n",
       "      <th>Blood Type</th>\n",
       "      <th>Medical Condition</th>\n",
       "      <th>Date of Admission</th>\n",
       "      <th>Doctor</th>\n",
       "      <th>Hospital</th>\n",
       "      <th>Insurance Provider</th>\n",
       "      <th>Billing Amount</th>\n",
       "      <th>Room Number</th>\n",
       "      <th>Admission Type</th>\n",
       "      <th>Discharge Date</th>\n",
       "      <th>Medication</th>\n",
       "      <th>Test Results</th>\n",
       "    </tr>\n",
       "  </thead>\n",
       "  <tbody>\n",
       "    <tr>\n",
       "      <th>0</th>\n",
       "      <td>lyNn FeRnANdEZ</td>\n",
       "      <td>24</td>\n",
       "      <td>Female</td>\n",
       "      <td>AB+</td>\n",
       "      <td>Hypertension</td>\n",
       "      <td>2023-12-01</td>\n",
       "      <td>Shannon David</td>\n",
       "      <td>Richardson-Bryant</td>\n",
       "      <td>UnitedHealthcare</td>\n",
       "      <td>39004.169781</td>\n",
       "      <td>127</td>\n",
       "      <td>Urgent</td>\n",
       "      <td>2023-12-08</td>\n",
       "      <td>Aspirin</td>\n",
       "      <td>Normal</td>\n",
       "    </tr>\n",
       "    <tr>\n",
       "      <th>1</th>\n",
       "      <td>BRITTAnY steWarT</td>\n",
       "      <td>51</td>\n",
       "      <td>Male</td>\n",
       "      <td>AB-</td>\n",
       "      <td>Obesity</td>\n",
       "      <td>2019-12-28</td>\n",
       "      <td>Richard Rodriguez</td>\n",
       "      <td>Nunez-Leon</td>\n",
       "      <td>Aetna</td>\n",
       "      <td>42272.454522</td>\n",
       "      <td>477</td>\n",
       "      <td>Urgent</td>\n",
       "      <td>2020-01-23</td>\n",
       "      <td>Aspirin</td>\n",
       "      <td>Inconclusive</td>\n",
       "    </tr>\n",
       "    <tr>\n",
       "      <th>2</th>\n",
       "      <td>STepHaNiE pARKeR</td>\n",
       "      <td>42</td>\n",
       "      <td>Male</td>\n",
       "      <td>AB+</td>\n",
       "      <td>Cancer</td>\n",
       "      <td>2021-03-09</td>\n",
       "      <td>Kerri Santiago</td>\n",
       "      <td>Roberts-Gonzalez</td>\n",
       "      <td>Cigna</td>\n",
       "      <td>14198.831475</td>\n",
       "      <td>179</td>\n",
       "      <td>Elective</td>\n",
       "      <td>2021-04-04</td>\n",
       "      <td>Paracetamol</td>\n",
       "      <td>Inconclusive</td>\n",
       "    </tr>\n",
       "    <tr>\n",
       "      <th>3</th>\n",
       "      <td>roBErT sPeNCE</td>\n",
       "      <td>54</td>\n",
       "      <td>Female</td>\n",
       "      <td>A+</td>\n",
       "      <td>Obesity</td>\n",
       "      <td>2023-04-27</td>\n",
       "      <td>Stacy Love</td>\n",
       "      <td>Vincent LLC</td>\n",
       "      <td>Aetna</td>\n",
       "      <td>38028.088189</td>\n",
       "      <td>252</td>\n",
       "      <td>Elective</td>\n",
       "      <td>2023-05-03</td>\n",
       "      <td>Lipitor</td>\n",
       "      <td>Abnormal</td>\n",
       "    </tr>\n",
       "    <tr>\n",
       "      <th>4</th>\n",
       "      <td>WILLiaM GLEnn</td>\n",
       "      <td>81</td>\n",
       "      <td>Male</td>\n",
       "      <td>B-</td>\n",
       "      <td>Cancer</td>\n",
       "      <td>2023-11-18</td>\n",
       "      <td>Paul Key</td>\n",
       "      <td>Andrews PLC</td>\n",
       "      <td>Aetna</td>\n",
       "      <td>21768.337386</td>\n",
       "      <td>326</td>\n",
       "      <td>Emergency</td>\n",
       "      <td>2023-11-21</td>\n",
       "      <td>Penicillin</td>\n",
       "      <td>Inconclusive</td>\n",
       "    </tr>\n",
       "  </tbody>\n",
       "</table>\n",
       "</div>"
      ],
      "text/plain": [
       "               Name  Age  Gender Blood Type Medical Condition  \\\n",
       "0    lyNn FeRnANdEZ   24  Female        AB+      Hypertension   \n",
       "1  BRITTAnY steWarT   51    Male        AB-           Obesity   \n",
       "2  STepHaNiE pARKeR   42    Male        AB+            Cancer   \n",
       "3     roBErT sPeNCE   54  Female         A+           Obesity   \n",
       "4     WILLiaM GLEnn   81    Male         B-            Cancer   \n",
       "\n",
       "  Date of Admission             Doctor           Hospital Insurance Provider  \\\n",
       "0        2023-12-01      Shannon David  Richardson-Bryant   UnitedHealthcare   \n",
       "1        2019-12-28  Richard Rodriguez         Nunez-Leon              Aetna   \n",
       "2        2021-03-09     Kerri Santiago   Roberts-Gonzalez              Cigna   \n",
       "3        2023-04-27         Stacy Love        Vincent LLC              Aetna   \n",
       "4        2023-11-18           Paul Key        Andrews PLC              Aetna   \n",
       "\n",
       "   Billing Amount  Room Number Admission Type Discharge Date   Medication  \\\n",
       "0    39004.169781          127         Urgent     2023-12-08      Aspirin   \n",
       "1    42272.454522          477         Urgent     2020-01-23      Aspirin   \n",
       "2    14198.831475          179       Elective     2021-04-04  Paracetamol   \n",
       "3    38028.088189          252       Elective     2023-05-03      Lipitor   \n",
       "4    21768.337386          326      Emergency     2023-11-21   Penicillin   \n",
       "\n",
       "   Test Results  \n",
       "0        Normal  \n",
       "1  Inconclusive  \n",
       "2  Inconclusive  \n",
       "3      Abnormal  \n",
       "4  Inconclusive  "
      ]
     },
     "execution_count": 6,
     "metadata": {},
     "output_type": "execute_result"
    }
   ],
   "source": [
    "healthData = pd.read_csv('healthcare_dataset(Dirty).csv', encoding = 'utf-8')\n",
    "healthData.head()"
   ]
  },
  {
   "cell_type": "markdown",
   "id": "9c61ee8a",
   "metadata": {},
   "source": [
    "# CHECKING OUT ALL THE COLUMNS IN THE DATASET"
   ]
  },
  {
   "cell_type": "markdown",
   "id": "d0a9e797",
   "metadata": {},
   "source": [
    "# CHECKING OUT THE MISSING VALUES AND DATA TYPES OF THIS DATASET"
   ]
  },
  {
   "cell_type": "code",
   "execution_count": 7,
   "id": "7f288c4b",
   "metadata": {},
   "outputs": [
    {
     "data": {
      "text/plain": [
       "Name                  0\n",
       "Age                   0\n",
       "Gender                0\n",
       "Blood Type            0\n",
       "Medical Condition     0\n",
       "Date of Admission     0\n",
       "Doctor                0\n",
       "Hospital              0\n",
       "Insurance Provider    0\n",
       "Billing Amount        0\n",
       "Room Number           0\n",
       "Admission Type        0\n",
       "Discharge Date        0\n",
       "Medication            0\n",
       "Test Results          0\n",
       "dtype: int64"
      ]
     },
     "execution_count": 7,
     "metadata": {},
     "output_type": "execute_result"
    }
   ],
   "source": [
    "healthData.isnull().sum()"
   ]
  },
  {
   "cell_type": "code",
   "execution_count": 8,
   "id": "bfe25861",
   "metadata": {},
   "outputs": [
    {
     "data": {
      "text/plain": [
       "Name                   object\n",
       "Age                     int64\n",
       "Gender                 object\n",
       "Blood Type             object\n",
       "Medical Condition      object\n",
       "Date of Admission      object\n",
       "Doctor                 object\n",
       "Hospital               object\n",
       "Insurance Provider     object\n",
       "Billing Amount        float64\n",
       "Room Number             int64\n",
       "Admission Type         object\n",
       "Discharge Date         object\n",
       "Medication             object\n",
       "Test Results           object\n",
       "dtype: object"
      ]
     },
     "execution_count": 8,
     "metadata": {},
     "output_type": "execute_result"
    }
   ],
   "source": [
    "healthData.dtypes"
   ]
  },
  {
   "cell_type": "code",
   "execution_count": 9,
   "id": "052afcb9",
   "metadata": {},
   "outputs": [
    {
     "data": {
      "text/plain": [
       "(3000, 15)"
      ]
     },
     "execution_count": 9,
     "metadata": {},
     "output_type": "execute_result"
    }
   ],
   "source": [
    "healthData.shape"
   ]
  },
  {
   "cell_type": "markdown",
   "id": "193981c6",
   "metadata": {},
   "source": [
    "Conclusion:\n",
    "1. This Dataset has no null values."
   ]
  },
  {
   "cell_type": "markdown",
   "id": "c6e8d678",
   "metadata": {},
   "source": [
    "# CHECKING OUT THE NAME COLUMN"
   ]
  },
  {
   "cell_type": "code",
   "execution_count": 10,
   "id": "a8cb192c",
   "metadata": {},
   "outputs": [
    {
     "name": "stdout",
     "output_type": "stream",
     "text": [
      "AArON sTrICkLanD     1\n",
      "AAroN MArtiN         1\n",
      "ADaM taylOR          1\n",
      "ALBErt bROokS        1\n",
      "ALEXANdra OlSEn      1\n",
      "                    ..\n",
      "zAchaRy WaNg         1\n",
      "zaCHARY rodrigueZ    1\n",
      "zaCHAry balL         1\n",
      "zacHary ThompSoN     1\n",
      "zachArY paRrISh      1\n",
      "Name: Name, Length: 2987, dtype: int64\n"
     ]
    }
   ],
   "source": [
    "print(healthData['Name'].value_counts().sort_index())"
   ]
  },
  {
   "cell_type": "markdown",
   "id": "2d503dfb",
   "metadata": {},
   "source": [
    "CONCLUSION:\n",
    "1. Some of the data are duplicates. I'll need to see other columns to know what to do about them(Determine which one to delete).\n",
    "2. Ther are lots of Capitalization issues \n",
    "3. I don't think there are inconsistencies in the spelling of same names\n",
    "4. I don't think there is a trailing white space issue"
   ]
  },
  {
   "cell_type": "markdown",
   "id": "96cb57a0",
   "metadata": {},
   "source": [
    "# CHECKING OUT AGE COLUMN"
   ]
  },
  {
   "cell_type": "code",
   "execution_count": 11,
   "id": "54a78169",
   "metadata": {},
   "outputs": [
    {
     "name": "stdout",
     "output_type": "stream",
     "text": [
      "53    55\n",
      "68    55\n",
      "18    54\n",
      "25    53\n",
      "51    53\n",
      "      ..\n",
      "78    32\n",
      "15     5\n",
      "88     3\n",
      "86     3\n",
      "17     3\n",
      "Name: Age, Length: 72, dtype: int64\n"
     ]
    }
   ],
   "source": [
    "print(healthData['Age'].value_counts())"
   ]
  },
  {
   "cell_type": "markdown",
   "id": "51a71232",
   "metadata": {},
   "source": [
    "CONCLUSION:\n",
    "1. I don't think this column has inconsistencies."
   ]
  },
  {
   "cell_type": "markdown",
   "id": "18ebc004",
   "metadata": {},
   "source": [
    "# CHECKING OUT THE GENDER COLUMN"
   ]
  },
  {
   "cell_type": "code",
   "execution_count": 12,
   "id": "d5e85e5f",
   "metadata": {},
   "outputs": [
    {
     "name": "stdout",
     "output_type": "stream",
     "text": [
      "Female    1511\n",
      "Male      1489\n",
      "Name: Gender, dtype: int64\n"
     ]
    }
   ],
   "source": [
    "print(healthData['Gender'].value_counts())"
   ]
  },
  {
   "cell_type": "markdown",
   "id": "d656c698",
   "metadata": {},
   "source": [
    "CONCLUSION:\n",
    "1. I don't think this column has any inconsistencies"
   ]
  },
  {
   "cell_type": "markdown",
   "id": "34063761",
   "metadata": {},
   "source": [
    "# CHECKING OUT THE BLOODTYPE COLUMN"
   ]
  },
  {
   "cell_type": "code",
   "execution_count": 13,
   "id": "f3a77172",
   "metadata": {},
   "outputs": [
    {
     "name": "stdout",
     "output_type": "stream",
     "text": [
      "B+     393\n",
      "AB+    387\n",
      "A+     385\n",
      "AB-    384\n",
      "B-     368\n",
      "O-     367\n",
      "A-     365\n",
      "O+     351\n",
      "Name: Blood Type, dtype: int64\n"
     ]
    }
   ],
   "source": [
    "print(healthData['Blood Type'].value_counts())"
   ]
  },
  {
   "cell_type": "markdown",
   "id": "ee250bd5",
   "metadata": {},
   "source": [
    "CONCLUSION:\n",
    "1. I don't think there is any inconsistencies in this column"
   ]
  },
  {
   "cell_type": "markdown",
   "id": "cd23d9a6",
   "metadata": {},
   "source": [
    "# CHECKING OUT INCONSISTENCIES IN MEDICAL CONDITION COLUMN"
   ]
  },
  {
   "cell_type": "code",
   "execution_count": 14,
   "id": "b458d618",
   "metadata": {},
   "outputs": [
    {
     "name": "stdout",
     "output_type": "stream",
     "text": [
      "Diabetes        520\n",
      "Arthritis       506\n",
      "Hypertension    504\n",
      "Asthma          501\n",
      "Cancer          491\n",
      "Obesity         478\n",
      "Name: Medical Condition, dtype: int64\n"
     ]
    }
   ],
   "source": [
    "print(healthData['Medical Condition'].value_counts())"
   ]
  },
  {
   "cell_type": "markdown",
   "id": "c4c5d610",
   "metadata": {},
   "source": [
    "CONCLUSION:\n",
    "1. I don't think that there is any issues or inconsistencies with this column"
   ]
  },
  {
   "cell_type": "markdown",
   "id": "472e7703",
   "metadata": {},
   "source": [
    "# CHECKING OUT THE INCONSISTENCIES IN DATE OF ADMISSION COLUMN"
   ]
  },
  {
   "cell_type": "code",
   "execution_count": 15,
   "id": "84ffb5f5",
   "metadata": {},
   "outputs": [
    {
     "name": "stdout",
     "output_type": "stream",
     "text": [
      "10    3000\n",
      "Name: Date of Admission, dtype: int64\n"
     ]
    }
   ],
   "source": [
    "print(healthData['Date of Admission'].str.len().value_counts())"
   ]
  },
  {
   "cell_type": "markdown",
   "id": "81695ae5",
   "metadata": {},
   "source": [
    "CONCLUSION:\n",
    "1. I don't think there is any inconsistencies in this column.\n",
    "2. The data is not in date format so we must change it to datetime in order to properly utilize it."
   ]
  },
  {
   "cell_type": "markdown",
   "id": "11aad51a",
   "metadata": {},
   "source": [
    "# CHECKING OUT INCONSISTENCIES IN THE DOCTOR COLUMN"
   ]
  },
  {
   "cell_type": "code",
   "execution_count": 16,
   "id": "ebd69825",
   "metadata": {},
   "outputs": [
    {
     "name": "stdout",
     "output_type": "stream",
     "text": [
      "Aaron Collins       1\n",
      "Aaron Davila        1\n",
      "Aaron Hernandez     1\n",
      "Aaron Hill          1\n",
      "Aaron Jones         1\n",
      "                   ..\n",
      "Zachary Lopez       1\n",
      "Zachary Osborne     1\n",
      "Zachary Sanchez     1\n",
      "Zachary Thompson    1\n",
      "Zachary Walter      1\n",
      "Name: Doctor, Length: 2944, dtype: int64\n"
     ]
    }
   ],
   "source": [
    "print(healthData['Doctor'].value_counts().sort_index())"
   ]
  },
  {
   "cell_type": "markdown",
   "id": "b4f90ff0",
   "metadata": {},
   "source": [
    "CONCLUSION:\n",
    "1. I don't think there is any duplicate in this column\n",
    "2. I want all the names to have the Dr. title at the beginning\n",
    "4. Find out the meaning of extra titles of doctor and check if it matches the diseases the patients are suffering."
   ]
  },
  {
   "cell_type": "markdown",
   "id": "dd3cc157",
   "metadata": {},
   "source": [
    "# CHECKING OUT THE HOSPITAL COLUMN"
   ]
  },
  {
   "cell_type": "code",
   "execution_count": 17,
   "id": "ee68694e",
   "metadata": {},
   "outputs": [
    {
     "name": "stdout",
     "output_type": "stream",
     "text": [
      "Abbott-Jones                     1\n",
      "Acevedo Ltd                      1\n",
      "Acevedo Phillips Steele, and     1\n",
      "Acosta, Miller Martin and        1\n",
      "Adams Ltd                        1\n",
      "                                ..\n",
      "and Wilson Miller Wagner,        1\n",
      "and Wilson Swanson, Griffin      1\n",
      "and Wood, Ryan Lopez             1\n",
      "and Woodard Martin Wells,        1\n",
      "and Woods, Rodriguez Williams    1\n",
      "Name: Hospital, Length: 2867, dtype: int64\n"
     ]
    }
   ],
   "source": [
    "print(healthData['Hospital'].value_counts().sort_index())"
   ]
  },
  {
   "cell_type": "markdown",
   "id": "997a13e8",
   "metadata": {},
   "source": [
    "CONCLUSION:\n",
    "1. Some hospital names are two. Try find out why from data description\n",
    "2. Multiple hospital names are arranged the wrong way. Put it the right way and use & as a connector\n",
    "3. Hospital names are arranged wrongly. Business suffixes like, ltd, llc, Inc, plc e.t.c should come last. Gather a list of all business suffixes and look for them in the data, then arrange properly\n",
    "4. Lots of corporation names are arranged inconsistently, but i can find the consistent way by looking up its other arrangements in the column"
   ]
  },
  {
   "cell_type": "markdown",
   "id": "073f5ac6",
   "metadata": {},
   "source": [
    "# CHECKING OUT INCONSISTENCIES IN THE INSURANCE PROVIDER COLUMN"
   ]
  },
  {
   "cell_type": "code",
   "execution_count": 18,
   "id": "894677e2",
   "metadata": {},
   "outputs": [
    {
     "name": "stdout",
     "output_type": "stream",
     "text": [
      "Aetna               623\n",
      "Blue Cross          622\n",
      "Medicare            590\n",
      "Cigna               589\n",
      "UnitedHealthcare    576\n",
      "Name: Insurance Provider, dtype: int64\n"
     ]
    }
   ],
   "source": [
    "print(healthData['Insurance Provider'].value_counts())"
   ]
  },
  {
   "cell_type": "markdown",
   "id": "6fc03d74",
   "metadata": {},
   "source": [
    "CONCLUSION:\n",
    "1. I don't think there are any inconsistencies in this column"
   ]
  },
  {
   "cell_type": "markdown",
   "id": "4d35693c",
   "metadata": {},
   "source": [
    "# CHECKING OUT INCONSISTENCIES IN THE BILLING AMOUNT"
   ]
  },
  {
   "cell_type": "markdown",
   "id": "8ace978d",
   "metadata": {},
   "source": [
    "CONCLUSION:\n",
    "1. i don't think that there is  any inconsistencies in this column but as a preventive measure. I might be okay to compare the variation of prices charged for the same diseases. It shouldn't varry too much"
   ]
  },
  {
   "cell_type": "markdown",
   "id": "760fd879",
   "metadata": {},
   "source": [
    "# CHECKING OUT INCONSISTENCIES IN THE ROOM NUMBER COLUMN"
   ]
  },
  {
   "cell_type": "code",
   "execution_count": 19,
   "id": "78415629",
   "metadata": {},
   "outputs": [
    {
     "name": "stdout",
     "output_type": "stream",
     "text": [
      "458    16\n",
      "120    15\n",
      "244    15\n",
      "394    14\n",
      "243    14\n",
      "       ..\n",
      "281     2\n",
      "423     2\n",
      "118     2\n",
      "234     2\n",
      "349     1\n",
      "Name: Room Number, Length: 400, dtype: int64\n"
     ]
    }
   ],
   "source": [
    "print(healthData['Room Number'].value_counts())"
   ]
  },
  {
   "cell_type": "markdown",
   "id": "5fc0a04e",
   "metadata": {},
   "source": [
    "CONCLUSION:\n",
    "1. I don't think there is any inconsistencies in this column but you might want to compare the room numbers in each hospital and also the addmission and discharge time to make sure that no patient was admitted into a room where there is already another patient.\n",
    "2. Or it might be because the rooms are wards with multiple patients"
   ]
  },
  {
   "cell_type": "markdown",
   "id": "4ad6efab",
   "metadata": {},
   "source": [
    "# CHECKING OUT INCONSISTENCIES IN THE ADMISSION TYPE COLUMN"
   ]
  },
  {
   "cell_type": "code",
   "execution_count": 20,
   "id": "c44bcca7",
   "metadata": {},
   "outputs": [
    {
     "name": "stdout",
     "output_type": "stream",
     "text": [
      "Elective     1031\n",
      "Urgent       1003\n",
      "Emergency     966\n",
      "Name: Admission Type, dtype: int64\n"
     ]
    }
   ],
   "source": [
    "print(healthData['Admission Type'].value_counts())"
   ]
  },
  {
   "cell_type": "markdown",
   "id": "dc487220",
   "metadata": {},
   "source": [
    "CONCLUSION:\n",
    "1. I don't think there is any inconsistencies in this column"
   ]
  },
  {
   "cell_type": "markdown",
   "id": "e0087550",
   "metadata": {},
   "source": [
    "# CHECKING OUT INCONSISTENCIES IN THE DISCHARGE DATE COLUMN"
   ]
  },
  {
   "cell_type": "code",
   "execution_count": 21,
   "id": "b5cd06ca",
   "metadata": {},
   "outputs": [
    {
     "name": "stdout",
     "output_type": "stream",
     "text": [
      "10    3000\n",
      "Name: Discharge Date, dtype: int64\n"
     ]
    }
   ],
   "source": [
    "print(healthData['Discharge Date'].str.len().value_counts())"
   ]
  },
  {
   "cell_type": "markdown",
   "id": "61828439",
   "metadata": {},
   "source": [
    "CONCLUSION:\n",
    "1. I don't think there is any inconsistencies in this column"
   ]
  },
  {
   "cell_type": "markdown",
   "id": "3a2f43f4",
   "metadata": {},
   "source": [
    "# CHECKING OUT INCONSISTENCIES IN THE MEDICATION COLUMN"
   ]
  },
  {
   "cell_type": "code",
   "execution_count": 22,
   "id": "15678788",
   "metadata": {},
   "outputs": [
    {
     "name": "stdout",
     "output_type": "stream",
     "text": [
      "Aspirin        632\n",
      "Paracetamol    607\n",
      "Ibuprofen      607\n",
      "Penicillin     591\n",
      "Lipitor        563\n",
      "Name: Medication, dtype: int64\n"
     ]
    }
   ],
   "source": [
    "print(healthData['Medication'].value_counts())"
   ]
  },
  {
   "cell_type": "markdown",
   "id": "9e0e5f17",
   "metadata": {},
   "source": [
    "CONCLUSION:\n",
    "1. I don't think there is any inconsistencies in this column"
   ]
  },
  {
   "cell_type": "markdown",
   "id": "5cab189a",
   "metadata": {},
   "source": [
    "# CHECKING OUT INCONSISTENCIES IN THE TEST RESULT COLUMN"
   ]
  },
  {
   "cell_type": "code",
   "execution_count": 23,
   "id": "95cf38c9",
   "metadata": {},
   "outputs": [
    {
     "name": "stdout",
     "output_type": "stream",
     "text": [
      "Abnormal        1018\n",
      "Inconclusive     998\n",
      "Normal           984\n",
      "Name: Test Results, dtype: int64\n"
     ]
    }
   ],
   "source": [
    "print(healthData['Test Results'].value_counts())"
   ]
  },
  {
   "cell_type": "markdown",
   "id": "cc28f273",
   "metadata": {},
   "source": [
    "CONCLUSION:\n",
    "1. I don't think think there is any inconsistencies in this column"
   ]
  },
  {
   "cell_type": "markdown",
   "id": "b2e0f898",
   "metadata": {},
   "source": [
    "# CLEANING INCONSISTENCIES IN THE DATASET AND CONVERTING DATE TO DATETIME"
   ]
  },
  {
   "cell_type": "markdown",
   "id": "82ee653b",
   "metadata": {},
   "source": [
    "# CLEANING THE NAME COLUMN"
   ]
  },
  {
   "cell_type": "code",
   "execution_count": 24,
   "id": "09d5349d",
   "metadata": {},
   "outputs": [],
   "source": [
    "healthData['Name'] = healthData['Name'].str.title()"
   ]
  },
  {
   "cell_type": "markdown",
   "id": "d5b214d9",
   "metadata": {},
   "source": [
    "# CHANGING THE DATE OF ADMISSION TO DATETIME"
   ]
  },
  {
   "cell_type": "code",
   "execution_count": 25,
   "id": "4ea77c9a",
   "metadata": {},
   "outputs": [],
   "source": [
    "healthData['Date of Admission'] = pd.to_datetime(healthData['Date of Admission'], format=\"%Y-%m-%d\")"
   ]
  },
  {
   "cell_type": "code",
   "execution_count": 26,
   "id": "aad63d61",
   "metadata": {},
   "outputs": [
    {
     "data": {
      "text/plain": [
       "0      2023-12-01\n",
       "1      2019-12-28\n",
       "2      2021-03-09\n",
       "3      2023-04-27\n",
       "4      2023-11-18\n",
       "          ...    \n",
       "2995   2022-09-10\n",
       "2996   2022-12-18\n",
       "2997   2023-05-26\n",
       "2998   2021-12-13\n",
       "2999   2022-03-17\n",
       "Name: Date of Admission, Length: 3000, dtype: datetime64[ns]"
      ]
     },
     "metadata": {},
     "output_type": "display_data"
    }
   ],
   "source": [
    "display(healthData['Date of Admission'])"
   ]
  },
  {
   "cell_type": "code",
   "execution_count": 27,
   "id": "78b52867",
   "metadata": {},
   "outputs": [],
   "source": [
    "Day = healthData['Date of Admission'].dt.day"
   ]
  },
  {
   "cell_type": "code",
   "execution_count": 28,
   "id": "cd263718",
   "metadata": {},
   "outputs": [
    {
     "data": {
      "text/plain": [
       "<AxesSubplot:xlabel='Date of Admission', ylabel='Count'>"
      ]
     },
     "execution_count": 28,
     "metadata": {},
     "output_type": "execute_result"
    },
    {
     "data": {
      "image/png": "[encoded data removed]",
      "text/plain": [
       "<Figure size 640x480 with 1 Axes>"
      ]
     },
     "metadata": {},
     "output_type": "display_data"
    }
   ],
   "source": [
    "# Checking if the date conversion was done properly\n",
    "sns.histplot(Day, kde = False, bins = 31)"
   ]
  },
  {
   "cell_type": "markdown",
   "id": "af93760b",
   "metadata": {},
   "source": [
    "# CLEANING THE DOCTOR COLUMN"
   ]
  },
  {
   "cell_type": "code",
   "execution_count": 29,
   "id": "5bdc3a48",
   "metadata": {},
   "outputs": [],
   "source": [
    "healthData['Doctor'] = healthData['Doctor'].str.strip()"
   ]
  },
  {
   "cell_type": "code",
   "execution_count": 30,
   "id": "2c7a29ae",
   "metadata": {},
   "outputs": [],
   "source": [
    "def titleAdder(doc):\n",
    "    if doc.find('Dr.'):\n",
    "        return \"Dr. \" + doc\n",
    "    else:\n",
    "        return doc\n",
    "healthData['Doctor'] = healthData['Doctor'].apply(titleAdder)"
   ]
  },
  {
   "cell_type": "markdown",
   "id": "05084a58",
   "metadata": {},
   "source": [
    "# CLEANING THE HOSPITAL COLUMN"
   ]
  },
  {
   "cell_type": "code",
   "execution_count": 31,
   "id": "9af594dc",
   "metadata": {},
   "outputs": [
    {
     "name": "stdout",
     "output_type": "stream",
     "text": [
      "[('Khan-Fisher', 53, 1483), ('Inc Khan', 50, 2533), ('Payne Inc', 46, 555), ('Kline Ltd', 46, 604), ('Beck-Wade', 46, 954), ('Cook-Chan', 46, 2920), ('Parker-Gardner', 44, 2711), ('Nolan-Pena', 43, 78), ('Daniel LLC', 43, 176), ('Evans-Lowe', 43, 521), ('King-Green', 43, 595), ('Wagner LLC', 43, 626), ('Lane-Kelly', 43, 838), ('Rangel Inc', 43, 961), ('Yang-Lopez', 43, 1084), ('Ltd Garner', 43, 1553), ('Ltd Daniel', 43, 1616), ('Daniel Ltd', 43, 1714), ('Malone-Lee', 43, 1735), ('Banks-West', 43, 1744)]\n"
     ]
    }
   ],
   "source": [
    "# Checking out the cause of errors with fuzzywuzzy\n",
    "print(fuzzywuzzy.process.extract(\"Kane\", healthData['Hospital'], scorer = fuzzywuzzy.fuzz.ratio, limit=20))"
   ]
  },
  {
   "cell_type": "code",
   "execution_count": 32,
   "id": "a25e5688",
   "metadata": {},
   "outputs": [],
   "source": [
    "def arranger(hospital):\n",
    "    if len(hospital.split(' ')) == 4 and 'and' in hospital.split(' '):\n",
    "        listing = hospital.split(' ')\n",
    "        for i in listing:\n",
    "            if ',' in i:\n",
    "                pos = listing.index(i)\n",
    "                listing.insert(0, listing.pop(pos))\n",
    "        if listing[1] == 'and':\n",
    "            listing.insert(2, listing.pop(1))\n",
    "        elif listing[3] == 'and':\n",
    "            listing.insert(2, listing.pop(3))\n",
    "        hos0 = list(listing[0])\n",
    "        hos1 = list(listing[1])\n",
    "        hos3 = list(listing[3])\n",
    "        hos0.insert(-1, ' Hospital')\n",
    "        hos1.insert(len(hos1), ' Hospital')\n",
    "        hos3.insert(len(hos3), ' Hospital')\n",
    "        hos0 = ''.join(hos0)\n",
    "        hos1 = ''.join(hos1)\n",
    "        hos3 = ''.join(hos3)\n",
    "        listing.pop(0)\n",
    "        listing.insert(0, hos0)\n",
    "        listing.pop(1)\n",
    "        listing.insert(1, hos1)\n",
    "        listing.pop(3)\n",
    "        listing.insert(3, hos3)\n",
    "        return ' '.join(listing)\n",
    "    else:\n",
    "        return hospital\n",
    "healthData['Hospital'] = healthData['Hospital'].apply(arranger)"
   ]
  },
  {
   "cell_type": "code",
   "execution_count": 33,
   "id": "7f1c9dcc",
   "metadata": {},
   "outputs": [],
   "source": [
    "# Arranging two words\n",
    "def arranger2(hospital):\n",
    "    if len(hospital.split(' ')) == 3 and 'and' in hospital.split(' '):\n",
    "        listing = hospital.split(' ')\n",
    "        if listing[0] == 'and':\n",
    "            listing.insert(1, listing.pop(0))\n",
    "        elif listing[2] == 'and':\n",
    "            listing.insert(1, listing.pop(2))\n",
    "        listing.insert(3, 'Hospital')\n",
    "        return ' '.join(listing)\n",
    "    else:\n",
    "        return hospital\n",
    "healthData['Hospital'] = healthData['Hospital'].apply(arranger2)"
   ]
  },
  {
   "cell_type": "code",
   "execution_count": 34,
   "id": "6892c5a3",
   "metadata": {},
   "outputs": [],
   "source": [
    "def arranger3(hospital):\n",
    "    if len(hospital.split(' ')) == 2 and 'LLC' in hospital.split(' '):\n",
    "        listing = hospital.split(' ')\n",
    "        if listing[0] == 'LLC':\n",
    "            listing.insert(1, listing.pop(0))\n",
    "        listing.insert(1, 'Hospital')\n",
    "        return ' '.join(listing)\n",
    "    elif len(hospital.split(' ')) == 2 and 'Ltd' in hospital.split(' '):\n",
    "        listing = hospital.split(' ')\n",
    "        if listing[0] == 'Ltd':\n",
    "            listing.insert(1, listing.pop(0))\n",
    "        listing.insert(1, 'Hospital')\n",
    "        return ' '.join(listing)\n",
    "    elif len(hospital.split(' ')) == 2 and 'Inc' in hospital.split(' '):\n",
    "        listing = hospital.split(' ')\n",
    "        if listing[0] == 'Inc':\n",
    "            listing.insert(1, listing.pop(0))\n",
    "        listing.insert(1, 'Hospital')\n",
    "        return ' '.join(listing)\n",
    "    elif len(hospital.split(' ')) == 2 and 'PLC' in hospital.split(' '):\n",
    "        listing = hospital.split(' ')\n",
    "        if listing[0] == 'PLC':\n",
    "            listing.insert(1, listing.pop(0))\n",
    "        listing.insert(1, 'Hospital')\n",
    "        return ' '.join(listing)\n",
    "    else:\n",
    "        return hospital\n",
    "healthData['Hospital'] = healthData['Hospital'].apply(arranger3)"
   ]
  },
  {
   "cell_type": "code",
   "execution_count": 35,
   "id": "876e727f",
   "metadata": {},
   "outputs": [],
   "source": [
    "# Arranging two words\n",
    "def arranger4(hospital):\n",
    "    if 'Hospital' in hospital.split(' '):\n",
    "        return hospital\n",
    "    else:\n",
    "        return hospital + ' Hospital'\n",
    "healthData['Hospital'] = healthData['Hospital'].apply(arranger4)"
   ]
  },
  {
   "cell_type": "code",
   "execution_count": 36,
   "id": "1c6f3081",
   "metadata": {},
   "outputs": [],
   "source": [
    "healthData['Hospital'] = healthData['Hospital'].str.title()"
   ]
  },
  {
   "cell_type": "code",
   "execution_count": 37,
   "id": "89316c8c",
   "metadata": {},
   "outputs": [
    {
     "data": {
      "text/plain": [
       "Abbott-Jones Hospital                                   1\n",
       "Acevedo Hospital Ltd                                    1\n",
       "Acosta Hospital Inc                                     1\n",
       "Acosta Hospital, Miller Hospital And Martin Hospital    1\n",
       "Adams And Sons Hospital                                 1\n",
       "                                                       ..\n",
       "Zamora Hospital Ltd                                     2\n",
       "Zimmerman Hospital Ltd                                  1\n",
       "Zimmerman-Carson Hospital                               1\n",
       "Zuniga Hospital, Berry Hospital And Wilson Hospital     1\n",
       "Zuniga-Lopez Hospital                                   1\n",
       "Name: Hospital, Length: 2804, dtype: int64"
      ]
     },
     "metadata": {},
     "output_type": "display_data"
    }
   ],
   "source": [
    "display(healthData['Hospital'].value_counts().sort_index())"
   ]
  },
  {
   "cell_type": "markdown",
   "id": "c33f08c7",
   "metadata": {},
   "source": [
    "# CHANGING THE DATE OF DISCHARGE COLUMN TO DATETIME"
   ]
  },
  {
   "cell_type": "code",
   "execution_count": 38,
   "id": "184e6793",
   "metadata": {},
   "outputs": [],
   "source": [
    "healthData['Discharge Date'] = pd.to_datetime(healthData['Discharge Date'], format=\"%Y-%m-%d\")"
   ]
  },
  {
   "cell_type": "code",
   "execution_count": 39,
   "id": "e8cf9ba4",
   "metadata": {},
   "outputs": [
    {
     "data": {
      "text/plain": [
       "0      2023-12-08\n",
       "1      2020-01-23\n",
       "2      2021-04-04\n",
       "3      2023-05-03\n",
       "4      2023-11-21\n",
       "          ...    \n",
       "2995   2022-09-21\n",
       "2996   2022-12-24\n",
       "2997   2023-06-25\n",
       "2998   2021-12-23\n",
       "2999   2022-03-26\n",
       "Name: Discharge Date, Length: 3000, dtype: datetime64[ns]"
      ]
     },
     "metadata": {},
     "output_type": "display_data"
    }
   ],
   "source": [
    "display(healthData['Discharge Date'])"
   ]
  },
  {
   "cell_type": "code",
   "execution_count": 40,
   "id": "3d292eb0",
   "metadata": {},
   "outputs": [
    {
     "data": {
      "text/plain": [
       "<AxesSubplot:xlabel='Discharge Date', ylabel='Count'>"
      ]
     },
     "execution_count": 40,
     "metadata": {},
     "output_type": "execute_result"
    },
    {
     "data": {
      "image/png": "[encoded data removed]",
      "text/plain": [
       "<Figure size 640x480 with 1 Axes>"
      ]
     },
     "metadata": {},
     "output_type": "display_data"
    }
   ],
   "source": [
    "# Making sure that the dates and months are parsed correctly\n",
    "Day = healthData['Discharge Date'].dt.day\n",
    "sns.histplot(Day, kde = False, bins = 31)"
   ]
  },
  {
   "cell_type": "markdown",
   "id": "c66cdfe1",
   "metadata": {},
   "source": [
    "# DROPPING DUPLICATES IN THE DATASET"
   ]
  },
  {
   "cell_type": "code",
   "execution_count": 41,
   "id": "4076a70d",
   "metadata": {},
   "outputs": [],
   "source": [
    "Duplicates = healthData[healthData.duplicated(subset = 'Name', keep = False)]"
   ]
  },
  {
   "cell_type": "code",
   "execution_count": 43,
   "id": "b98490d4",
   "metadata": {
    "scrolled": true
   },
   "outputs": [
    {
     "data": {
      "text/html": [
       "<div>\n",
       "<style scoped>\n",
       "    .dataframe tbody tr th:only-of-type {\n",
       "        vertical-align: middle;\n",
       "    }\n",
       "\n",
       "    .dataframe tbody tr th {\n",
       "        vertical-align: top;\n",
       "    }\n",
       "\n",
       "    .dataframe thead th {\n",
       "        text-align: right;\n",
       "    }\n",
       "</style>\n",
       "<table border=\"1\" class=\"dataframe\">\n",
       "  <thead>\n",
       "    <tr style=\"text-align: right;\">\n",
       "      <th></th>\n",
       "      <th>Name</th>\n",
       "      <th>Age</th>\n",
       "      <th>Gender</th>\n",
       "      <th>Blood Type</th>\n",
       "      <th>Medical Condition</th>\n",
       "      <th>Date of Admission</th>\n",
       "      <th>Doctor</th>\n",
       "      <th>Hospital</th>\n",
       "      <th>Insurance Provider</th>\n",
       "      <th>Billing Amount</th>\n",
       "      <th>Room Number</th>\n",
       "      <th>Admission Type</th>\n",
       "      <th>Discharge Date</th>\n",
       "      <th>Medication</th>\n",
       "      <th>Test Results</th>\n",
       "    </tr>\n",
       "  </thead>\n",
       "  <tbody>\n",
       "    <tr>\n",
       "      <th>2968</th>\n",
       "      <td>Alicia Parker</td>\n",
       "      <td>51</td>\n",
       "      <td>Male</td>\n",
       "      <td>B-</td>\n",
       "      <td>Diabetes</td>\n",
       "      <td>2020-01-30</td>\n",
       "      <td>Dr. Michael Bullock</td>\n",
       "      <td>Ware Hospital, Wagner Hospital And Davis Hospital</td>\n",
       "      <td>Aetna</td>\n",
       "      <td>31036.129369</td>\n",
       "      <td>487</td>\n",
       "      <td>Emergency</td>\n",
       "      <td>2020-02-13</td>\n",
       "      <td>Paracetamol</td>\n",
       "      <td>Normal</td>\n",
       "    </tr>\n",
       "    <tr>\n",
       "      <th>939</th>\n",
       "      <td>Alicia Parker</td>\n",
       "      <td>85</td>\n",
       "      <td>Female</td>\n",
       "      <td>A-</td>\n",
       "      <td>Diabetes</td>\n",
       "      <td>2022-12-06</td>\n",
       "      <td>Dr. Christopher Lawrence</td>\n",
       "      <td>Miller-Suarez Hospital</td>\n",
       "      <td>Medicare</td>\n",
       "      <td>41007.678083</td>\n",
       "      <td>309</td>\n",
       "      <td>Elective</td>\n",
       "      <td>2023-01-03</td>\n",
       "      <td>Lipitor</td>\n",
       "      <td>Inconclusive</td>\n",
       "    </tr>\n",
       "    <tr>\n",
       "      <th>973</th>\n",
       "      <td>Andrew Johnson</td>\n",
       "      <td>30</td>\n",
       "      <td>Female</td>\n",
       "      <td>O-</td>\n",
       "      <td>Hypertension</td>\n",
       "      <td>2023-01-15</td>\n",
       "      <td>Dr. Kyle Brown</td>\n",
       "      <td>Patel-Hanna Hospital</td>\n",
       "      <td>Medicare</td>\n",
       "      <td>40623.262036</td>\n",
       "      <td>163</td>\n",
       "      <td>Emergency</td>\n",
       "      <td>2023-01-30</td>\n",
       "      <td>Lipitor</td>\n",
       "      <td>Abnormal</td>\n",
       "    </tr>\n",
       "    <tr>\n",
       "      <th>723</th>\n",
       "      <td>Andrew Johnson</td>\n",
       "      <td>23</td>\n",
       "      <td>Female</td>\n",
       "      <td>A+</td>\n",
       "      <td>Cancer</td>\n",
       "      <td>2022-02-26</td>\n",
       "      <td>Dr. David Edwards</td>\n",
       "      <td>Lopez Hospital, Klein Hospital And Johnson Hos...</td>\n",
       "      <td>Aetna</td>\n",
       "      <td>15192.489567</td>\n",
       "      <td>388</td>\n",
       "      <td>Emergency</td>\n",
       "      <td>2022-03-15</td>\n",
       "      <td>Ibuprofen</td>\n",
       "      <td>Abnormal</td>\n",
       "    </tr>\n",
       "    <tr>\n",
       "      <th>1499</th>\n",
       "      <td>Angela Garcia</td>\n",
       "      <td>52</td>\n",
       "      <td>Female</td>\n",
       "      <td>A-</td>\n",
       "      <td>Obesity</td>\n",
       "      <td>2022-06-25</td>\n",
       "      <td>Dr. Cynthia Martinez</td>\n",
       "      <td>Jenkins-Fernandez Hospital</td>\n",
       "      <td>Blue Cross</td>\n",
       "      <td>26680.487180</td>\n",
       "      <td>244</td>\n",
       "      <td>Elective</td>\n",
       "      <td>2022-07-24</td>\n",
       "      <td>Aspirin</td>\n",
       "      <td>Abnormal</td>\n",
       "    </tr>\n",
       "  </tbody>\n",
       "</table>\n",
       "</div>"
      ],
      "text/plain": [
       "                Name  Age  Gender Blood Type Medical Condition  \\\n",
       "2968   Alicia Parker   51    Male         B-          Diabetes   \n",
       "939    Alicia Parker   85  Female         A-          Diabetes   \n",
       "973   Andrew Johnson   30  Female         O-      Hypertension   \n",
       "723   Andrew Johnson   23  Female         A+            Cancer   \n",
       "1499   Angela Garcia   52  Female         A-           Obesity   \n",
       "\n",
       "     Date of Admission                    Doctor  \\\n",
       "2968        2020-01-30       Dr. Michael Bullock   \n",
       "939         2022-12-06  Dr. Christopher Lawrence   \n",
       "973         2023-01-15            Dr. Kyle Brown   \n",
       "723         2022-02-26         Dr. David Edwards   \n",
       "1499        2022-06-25      Dr. Cynthia Martinez   \n",
       "\n",
       "                                               Hospital Insurance Provider  \\\n",
       "2968  Ware Hospital, Wagner Hospital And Davis Hospital              Aetna   \n",
       "939                              Miller-Suarez Hospital           Medicare   \n",
       "973                                Patel-Hanna Hospital           Medicare   \n",
       "723   Lopez Hospital, Klein Hospital And Johnson Hos...              Aetna   \n",
       "1499                         Jenkins-Fernandez Hospital         Blue Cross   \n",
       "\n",
       "      Billing Amount  Room Number Admission Type Discharge Date   Medication  \\\n",
       "2968    31036.129369          487      Emergency     2020-02-13  Paracetamol   \n",
       "939     41007.678083          309       Elective     2023-01-03      Lipitor   \n",
       "973     40623.262036          163      Emergency     2023-01-30      Lipitor   \n",
       "723     15192.489567          388      Emergency     2022-03-15    Ibuprofen   \n",
       "1499    26680.487180          244       Elective     2022-07-24      Aspirin   \n",
       "\n",
       "      Test Results  \n",
       "2968        Normal  \n",
       "939   Inconclusive  \n",
       "973       Abnormal  \n",
       "723       Abnormal  \n",
       "1499      Abnormal  "
      ]
     },
     "execution_count": 43,
     "metadata": {},
     "output_type": "execute_result"
    }
   ],
   "source": [
    "Duplicates.sort_values(by='Name').head()"
   ]
  },
  {
   "cell_type": "code",
   "execution_count": 44,
   "id": "7fe13aad",
   "metadata": {},
   "outputs": [
    {
     "name": "stdout",
     "output_type": "stream",
     "text": [
      "145\n"
     ]
    }
   ],
   "source": [
    "print(len(Duplicates))"
   ]
  },
  {
   "cell_type": "code",
   "execution_count": 45,
   "id": "a164cb57",
   "metadata": {},
   "outputs": [],
   "source": [
    "healthData = healthData.drop(healthData[healthData.duplicated(subset = ['Name', 'Gender', 'Blood Type', 'Medical Condition', 'Date of Admission', 'Doctor', 'Hospital', 'Insurance Provider', 'Billing Amount', 'Room Number', 'Admission Type', 'Discharge Date', 'Medication', 'Test Results'], keep = 'first')].index)"
   ]
  },
  {
   "cell_type": "code",
   "execution_count": 46,
   "id": "229f66cc",
   "metadata": {},
   "outputs": [
    {
     "name": "stdout",
     "output_type": "stream",
     "text": [
      "2987\n"
     ]
    }
   ],
   "source": [
    "print(len(healthData))"
   ]
  },
  {
   "cell_type": "markdown",
   "id": "2e0b4dc5",
   "metadata": {},
   "source": [
    "# SAVING THE CLEANED DATASET"
   ]
  },
  {
   "cell_type": "code",
   "execution_count": 50,
   "id": "f1028bb8",
   "metadata": {},
   "outputs": [
    {
     "data": {
      "text/html": [
       "<div>\n",
       "<style scoped>\n",
       "    .dataframe tbody tr th:only-of-type {\n",
       "        vertical-align: middle;\n",
       "    }\n",
       "\n",
       "    .dataframe tbody tr th {\n",
       "        vertical-align: top;\n",
       "    }\n",
       "\n",
       "    .dataframe thead th {\n",
       "        text-align: right;\n",
       "    }\n",
       "</style>\n",
       "<table border=\"1\" class=\"dataframe\">\n",
       "  <thead>\n",
       "    <tr style=\"text-align: right;\">\n",
       "      <th></th>\n",
       "      <th>Name</th>\n",
       "      <th>Age</th>\n",
       "      <th>Gender</th>\n",
       "      <th>Blood Type</th>\n",
       "      <th>Medical Condition</th>\n",
       "      <th>Date of Admission</th>\n",
       "      <th>Doctor</th>\n",
       "      <th>Hospital</th>\n",
       "      <th>Insurance Provider</th>\n",
       "      <th>Billing Amount</th>\n",
       "      <th>Room Number</th>\n",
       "      <th>Admission Type</th>\n",
       "      <th>Discharge Date</th>\n",
       "      <th>Medication</th>\n",
       "      <th>Test Results</th>\n",
       "    </tr>\n",
       "  </thead>\n",
       "  <tbody>\n",
       "    <tr>\n",
       "      <th>0</th>\n",
       "      <td>Lynn Fernandez</td>\n",
       "      <td>24</td>\n",
       "      <td>Female</td>\n",
       "      <td>AB+</td>\n",
       "      <td>Hypertension</td>\n",
       "      <td>2023-12-01</td>\n",
       "      <td>Dr. Shannon David</td>\n",
       "      <td>Richardson-Bryant Hospital</td>\n",
       "      <td>UnitedHealthcare</td>\n",
       "      <td>39004.169781</td>\n",
       "      <td>127</td>\n",
       "      <td>Urgent</td>\n",
       "      <td>2023-12-08</td>\n",
       "      <td>Aspirin</td>\n",
       "      <td>Normal</td>\n",
       "    </tr>\n",
       "    <tr>\n",
       "      <th>1</th>\n",
       "      <td>Brittany Stewart</td>\n",
       "      <td>51</td>\n",
       "      <td>Male</td>\n",
       "      <td>AB-</td>\n",
       "      <td>Obesity</td>\n",
       "      <td>2019-12-28</td>\n",
       "      <td>Dr. Richard Rodriguez</td>\n",
       "      <td>Nunez-Leon Hospital</td>\n",
       "      <td>Aetna</td>\n",
       "      <td>42272.454522</td>\n",
       "      <td>477</td>\n",
       "      <td>Urgent</td>\n",
       "      <td>2020-01-23</td>\n",
       "      <td>Aspirin</td>\n",
       "      <td>Inconclusive</td>\n",
       "    </tr>\n",
       "    <tr>\n",
       "      <th>2</th>\n",
       "      <td>Stephanie Parker</td>\n",
       "      <td>42</td>\n",
       "      <td>Male</td>\n",
       "      <td>AB+</td>\n",
       "      <td>Cancer</td>\n",
       "      <td>2021-03-09</td>\n",
       "      <td>Dr. Kerri Santiago</td>\n",
       "      <td>Roberts-Gonzalez Hospital</td>\n",
       "      <td>Cigna</td>\n",
       "      <td>14198.831475</td>\n",
       "      <td>179</td>\n",
       "      <td>Elective</td>\n",
       "      <td>2021-04-04</td>\n",
       "      <td>Paracetamol</td>\n",
       "      <td>Inconclusive</td>\n",
       "    </tr>\n",
       "    <tr>\n",
       "      <th>3</th>\n",
       "      <td>Robert Spence</td>\n",
       "      <td>54</td>\n",
       "      <td>Female</td>\n",
       "      <td>A+</td>\n",
       "      <td>Obesity</td>\n",
       "      <td>2023-04-27</td>\n",
       "      <td>Dr. Stacy Love</td>\n",
       "      <td>Vincent Hospital Llc</td>\n",
       "      <td>Aetna</td>\n",
       "      <td>38028.088189</td>\n",
       "      <td>252</td>\n",
       "      <td>Elective</td>\n",
       "      <td>2023-05-03</td>\n",
       "      <td>Lipitor</td>\n",
       "      <td>Abnormal</td>\n",
       "    </tr>\n",
       "    <tr>\n",
       "      <th>4</th>\n",
       "      <td>William Glenn</td>\n",
       "      <td>81</td>\n",
       "      <td>Male</td>\n",
       "      <td>B-</td>\n",
       "      <td>Cancer</td>\n",
       "      <td>2023-11-18</td>\n",
       "      <td>Dr. Paul Key</td>\n",
       "      <td>Andrews Hospital Plc</td>\n",
       "      <td>Aetna</td>\n",
       "      <td>21768.337386</td>\n",
       "      <td>326</td>\n",
       "      <td>Emergency</td>\n",
       "      <td>2023-11-21</td>\n",
       "      <td>Penicillin</td>\n",
       "      <td>Inconclusive</td>\n",
       "    </tr>\n",
       "  </tbody>\n",
       "</table>\n",
       "</div>"
      ],
      "text/plain": [
       "               Name  Age  Gender Blood Type Medical Condition  \\\n",
       "0    Lynn Fernandez   24  Female        AB+      Hypertension   \n",
       "1  Brittany Stewart   51    Male        AB-           Obesity   \n",
       "2  Stephanie Parker   42    Male        AB+            Cancer   \n",
       "3     Robert Spence   54  Female         A+           Obesity   \n",
       "4     William Glenn   81    Male         B-            Cancer   \n",
       "\n",
       "  Date of Admission                 Doctor                    Hospital  \\\n",
       "0        2023-12-01      Dr. Shannon David  Richardson-Bryant Hospital   \n",
       "1        2019-12-28  Dr. Richard Rodriguez         Nunez-Leon Hospital   \n",
       "2        2021-03-09     Dr. Kerri Santiago   Roberts-Gonzalez Hospital   \n",
       "3        2023-04-27         Dr. Stacy Love        Vincent Hospital Llc   \n",
       "4        2023-11-18           Dr. Paul Key        Andrews Hospital Plc   \n",
       "\n",
       "  Insurance Provider  Billing Amount  Room Number Admission Type  \\\n",
       "0   UnitedHealthcare    39004.169781          127         Urgent   \n",
       "1              Aetna    42272.454522          477         Urgent   \n",
       "2              Cigna    14198.831475          179       Elective   \n",
       "3              Aetna    38028.088189          252       Elective   \n",
       "4              Aetna    21768.337386          326      Emergency   \n",
       "\n",
       "  Discharge Date   Medication  Test Results  \n",
       "0     2023-12-08      Aspirin        Normal  \n",
       "1     2020-01-23      Aspirin  Inconclusive  \n",
       "2     2021-04-04  Paracetamol  Inconclusive  \n",
       "3     2023-05-03      Lipitor      Abnormal  \n",
       "4     2023-11-21   Penicillin  Inconclusive  "
      ]
     },
     "execution_count": 50,
     "metadata": {},
     "output_type": "execute_result"
    }
   ],
   "source": [
    "# Displaying the datasset after all cleaning has been done\n",
    "healthData.head()"
   ]
  },
  {
   "cell_type": "code",
   "execution_count": 51,
   "id": "67df7e87",
   "metadata": {},
   "outputs": [],
   "source": [
    "healthData.to_csv('healthcare_dataset(Cleaned).csv', encoding = 'utf-8', index = False)"
   ]
  },
  {
   "cell_type": "code",
   "execution_count": null,
   "id": "afc5bdba",
   "metadata": {},
   "outputs": [],
   "source": []
  }
 ],
 "metadata": {
  "kernelspec": {
   "display_name": "Python 3 (ipykernel)",
   "language": "python",
   "name": "python3"
  },
  "language_info": {
   "codemirror_mode": {
    "name": "ipython",
    "version": 3
   },
   "file_extension": ".py",
   "mimetype": "text/x-python",
   "name": "python",
   "nbconvert_exporter": "python",
   "pygments_lexer": "ipython3",
   "version": "3.9.13"
  }
 },
 "nbformat": 4,
 "nbformat_minor": 5
}
